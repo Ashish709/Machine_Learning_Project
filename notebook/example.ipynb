{
 "cells": [
  {
   "cell_type": "code",
   "execution_count": 1,
   "metadata": {},
   "outputs": [],
   "source": [
    "from collections import namedtuple"
   ]
  },
  {
   "cell_type": "markdown",
   "metadata": {},
   "source": [
    "## Entity \n",
    "\n",
    "### Config_entity.py\n",
    "\n",
    "#### DataIngestionConfig\n",
    "\n",
    "Information to Provide in DataIngestion Named Tuple\n",
    "1. Download URL\n",
    "2. Download Folder (compressed file)\n",
    "3. Extract Folder (extracted file)\n",
    "4. Train Dataset Folder\n",
    "5. Test Dataset Folder\n",
    "\n",
    "\n",
    "#### DataValidationConfig\n",
    "\n",
    "Information to Provide in DataIngestion Named Tuple\n",
    "\n",
    "1. schema_file_path\n",
    "\n",
    "\n",
    "#### DataTransformationConfig\n",
    "\n",
    "Information to Provide in DataIngestion Named Tuple\n",
    "\n",
    "1. add_bedroom_per_room -- adding on more column to the dataset (dataset dependable)\n",
    "2. transformed_train_dir\n",
    "3. transformed_test_dir\n",
    "4. preprocessed_file_path -- pickel file store path"
   ]
  },
  {
   "cell_type": "code",
   "execution_count": 3,
   "metadata": {},
   "outputs": [],
   "source": [
    "DataIngestionConfig = namedtuple(\"DataIngestionConfig\",['dataset_download_url','tgz_download_dir','raw_data_dir', \n",
    "                                                        'ingetsed_train_dir','ingested_test_dir'])"
   ]
  },
  {
   "cell_type": "code",
   "execution_count": 4,
   "metadata": {},
   "outputs": [],
   "source": [
    "data_ingetsion_config = DataIngestionConfig(dataset_download_url='adnxkajb',\n",
    "                                            tgz_download_dir='cabikc',\n",
    "                                            raw_data_dir='scnooal',\n",
    "                                            ingetsed_train_dir='vhiua',\n",
    "                                            ingested_test_dir='sbojzl')"
   ]
  },
  {
   "cell_type": "markdown",
   "metadata": {},
   "source": [
    "\n",
    "\n",
    "\n",
    "\n"
   ]
  },
  {
   "cell_type": "code",
   "execution_count": null,
   "metadata": {},
   "outputs": [],
   "source": []
  },
  {
   "cell_type": "code",
   "execution_count": null,
   "metadata": {},
   "outputs": [],
   "source": []
  }
 ],
 "metadata": {
  "kernelspec": {
   "display_name": "Python 3",
   "language": "python",
   "name": "python3"
  },
  "language_info": {
   "codemirror_mode": {
    "name": "ipython",
    "version": 3
   },
   "file_extension": ".py",
   "mimetype": "text/x-python",
   "name": "python",
   "nbconvert_exporter": "python",
   "pygments_lexer": "ipython3",
   "version": "3.7.0"
  }
 },
 "nbformat": 4,
 "nbformat_minor": 2
}
